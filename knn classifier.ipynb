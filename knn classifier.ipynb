{
 "cells": [
  {
   "cell_type": "markdown",
   "id": "f1a7c129",
   "metadata": {},
   "source": [
    "### K Nearest Neighbor"
   ]
  },
  {
   "cell_type": "code",
   "execution_count": null,
   "id": "4d802524",
   "metadata": {},
   "outputs": [
    {
     "name": "stdout",
     "output_type": "stream",
     "text": [
      "Prediction for person with height 172cm and weight 68kg: Medium\n"
     ]
    }
   ],
   "source": [
    "# Import KNN classifier\n",
    "from sklearn.neighbors import KNeighborsClassifier\n",
    "\n",
    "# Simple training data (height, weight)\n",
    "X_train = [\n",
    "    [170, 70],\n",
    "    [180, 80],\n",
    "    [160, 55], \n",
    "    [175, 75], \n",
    "    [165, 60]]\n",
    "y_train = [\n",
    "    'Medium', \n",
    "    'Tall',\n",
    "    'Short', \n",
    "    'Tall', \n",
    "    'Short']\n",
    "\n",
    "# Create and train KNN model\n",
    "knn = KNeighborsClassifier(n_neighbors=3)\n",
    "knn.fit(X_train, y_train)\n",
    "\n",
    "# New person to predict (height=172, weight=68)\n",
    "new_person = [[172, 68]]\n",
    "prediction = knn.predict(new_person)\n",
    "\n",
    "print(f\"Prediction for person with height 172cm and weight 68kg: {prediction[0]}\")"
   ]
  }
 ],
 "metadata": {
  "kernelspec": {
   "display_name": "Python 3",
   "language": "python",
   "name": "python3"
  },
  "language_info": {
   "codemirror_mode": {
    "name": "ipython",
    "version": 3
   },
   "file_extension": ".py",
   "mimetype": "text/x-python",
   "name": "python",
   "nbconvert_exporter": "python",
   "pygments_lexer": "ipython3",
   "version": "3.11.9"
  }
 },
 "nbformat": 4,
 "nbformat_minor": 5
}
