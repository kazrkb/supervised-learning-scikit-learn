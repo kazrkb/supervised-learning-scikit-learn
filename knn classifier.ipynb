{
 "cells": [
  {
   "cell_type": "markdown",
   "id": "f1a7c129",
   "metadata": {},
   "source": [
    "### K Nearest Neighbor"
   ]
  },
  {
   "cell_type": "code",
   "execution_count": 8,
   "id": "4d802524",
   "metadata": {},
   "outputs": [
    {
     "name": "stdout",
     "output_type": "stream",
     "text": [
      "Prediction for person with height 172cm and weight 68kg: Medium\n"
     ]
    }
   ],
   "source": [
    "# Import KNN classifier\n",
    "from sklearn.neighbors import KNeighborsClassifier\n",
    "\n",
    "# Simple training data (height, weight)\n",
    "X_train = [\n",
    "    [170, 70],\n",
    "    [180, 80],\n",
    "    [160, 55], \n",
    "    [175, 75], \n",
    "    [165, 60]]\n",
    "y_train = [\n",
    "    'Medium', \n",
    "    'Tall',\n",
    "    'Short', \n",
    "    'Tall', \n",
    "    'Short']\n",
    "\n",
    "# Create and train KNN model\n",
    "knn = KNeighborsClassifier(n_neighbors=3)\n",
    "knn.fit(X_train, y_train)\n",
    "\n",
    "# New person to predict (height=172, weight=68)\n",
    "new_person = [[172, 68]]\n",
    "prediction = knn.predict(new_person)\n",
    "\n",
    "print(f\"Prediction for person with height 172cm and weight 68kg: {prediction[0]}\")"
   ]
  },
  {
   "cell_type": "code",
   "execution_count": 9,
   "id": "4c17a775",
   "metadata": {},
   "outputs": [
    {
     "name": "stdout",
     "output_type": "stream",
     "text": [
      "Model Performance on Test Data:\n",
      "Accuracy: 0.80 (or 80%)\n",
      "\n",
      "Test Results:\n",
      "Test Person 1: Height=168, Weight=65 | Actual=Medium, Predicted=Medium ✓\n",
      "Test Person 2: Height=185, Weight=85 | Actual=Tall, Predicted=Tall ✓\n",
      "Test Person 3: Height=155, Weight=50 | Actual=Short, Predicted=Short ✓\n",
      "Test Person 4: Height=173, Weight=72 | Actual=Medium, Predicted=Tall ✗\n",
      "Test Person 5: Height=162, Weight=58 | Actual=Short, Predicted=Short ✓\n"
     ]
    }
   ],
   "source": [
    "# Measuring model performance - Using separate test data\n",
    "from sklearn.metrics import accuracy_score\n",
    "\n",
    "# Create separate test data that the model hasn't seen before\n",
    "X_test = [\n",
    "    [168, 65],   # Should be Medium\n",
    "    [185, 85],   # Should be Tall  \n",
    "    [155, 50],   # Should be Short\n",
    "    [173, 72],   # Should be Medium/Tall\n",
    "    [162, 58]    # Should be Short\n",
    "]\n",
    "y_test = ['Medium', 'Tall', 'Short', 'Medium', 'Short']  # True labels\n",
    "\n",
    "# Test the model on new data\n",
    "predictions_test = knn.predict(X_test)\n",
    "accuracy = accuracy_score(y_test, predictions_test)\n",
    "\n",
    "print(\"Model Performance on Test Data:\")\n",
    "print(f\"Accuracy: {accuracy:.2f} (or {accuracy*100:.0f}%)\")\n",
    "print()\n",
    "\n",
    "# Show actual vs predicted for each test person\n",
    "print(\"Test Results:\")\n",
    "for i in range(len(X_test)):\n",
    "    height, weight = X_test[i]\n",
    "    actual = y_test[i]\n",
    "    predicted = predictions_test[i]\n",
    "    correct = \"✓\" if actual == predicted else \"✗\"\n",
    "    print(f\"Test Person {i+1}: Height={height}, Weight={weight} | Actual={actual}, Predicted={predicted} {correct}\")"
   ]
  }
 ],
 "metadata": {
  "kernelspec": {
   "display_name": "Python 3",
   "language": "python",
   "name": "python3"
  },
  "language_info": {
   "codemirror_mode": {
    "name": "ipython",
    "version": 3
   },
   "file_extension": ".py",
   "mimetype": "text/x-python",
   "name": "python",
   "nbconvert_exporter": "python",
   "pygments_lexer": "ipython3",
   "version": "3.11.9"
  }
 },
 "nbformat": 4,
 "nbformat_minor": 5
}
